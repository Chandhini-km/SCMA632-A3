{
 "cells": [
  {
   "cell_type": "code",
   "execution_count": 2,
   "id": "da52e3d4",
   "metadata": {},
   "outputs": [],
   "source": [
    "import os \n",
    "import pandas as pd\n",
    "import numpy as np\n",
    "from scipy import stats"
   ]
  },
  {
   "cell_type": "code",
   "execution_count": null,
   "id": "c2243359",
   "metadata": {},
   "outputs": [],
   "source": [
    "# reading the file "
   ]
  },
  {
   "cell_type": "code",
   "execution_count": 4,
   "id": "df86840d",
   "metadata": {},
   "outputs": [],
   "source": [
    "df=pd.read_excel(\"C:\\\\Users\\\\Chand\\\\Downloads\\\\Miz.xlsx\")"
   ]
  },
  {
   "cell_type": "code",
   "execution_count": null,
   "id": "b6ed0923",
   "metadata": {},
   "outputs": [],
   "source": [
    "# Extracting Mizoram data "
   ]
  },
  {
   "cell_type": "code",
   "execution_count": 5,
   "id": "fe926236",
   "metadata": {},
   "outputs": [],
   "source": [
    "Mizoram = df[['Age','Religion','eggsno_q','fishprawn_q','goatmeat_q','beef_q','pork_q','chicken_q','othrbirds_q']]"
   ]
  },
  {
   "cell_type": "code",
   "execution_count": 6,
   "id": "464a90b8",
   "metadata": {},
   "outputs": [
    {
     "name": "stdout",
     "output_type": "stream",
     "text": [
      "               Age     Religion     eggsno_q  fishprawn_q   goatmeat_q  \\\n",
      "count  1536.000000  1536.000000  1536.000000  1536.000000  1536.000000   \n",
      "mean     46.694661     3.117188     0.000186     0.121713     0.006977   \n",
      "std      11.810717     0.766100     0.000187     0.223880     0.069212   \n",
      "min      18.000000     1.000000     0.000000     0.000000     0.000000   \n",
      "25%      38.000000     3.000000     0.000055     0.000000     0.000000   \n",
      "50%      47.000000     3.000000     0.000138     0.000000     0.000000   \n",
      "75%      54.000000     3.000000     0.000275     0.200000     0.000000   \n",
      "max      87.000000     6.000000     0.001650     3.000000     1.500000   \n",
      "\n",
      "            beef_q       pork_q    chicken_q  othrbirds_q  \n",
      "count  1536.000000  1536.000000  1536.000000  1536.000000  \n",
      "mean      0.106797     0.572749     0.140367     0.056279  \n",
      "std       0.214431     0.446186     0.233761     0.152804  \n",
      "min       0.000000     0.000000     0.000000     0.000000  \n",
      "25%       0.000000     0.250000     0.000000     0.000000  \n",
      "50%       0.000000     0.500000     0.000000     0.000000  \n",
      "75%       0.166667     0.833333     0.250000     0.000000  \n",
      "max       1.600000     3.000000     1.500000     1.500000  \n"
     ]
    }
   ],
   "source": [
    "print(Mizoram.describe())"
   ]
  },
  {
   "cell_type": "code",
   "execution_count": 7,
   "id": "e41227c5",
   "metadata": {},
   "outputs": [
    {
     "name": "stdout",
     "output_type": "stream",
     "text": [
      "(1536, 9)\n"
     ]
    }
   ],
   "source": [
    "print(Mizoram.shape)"
   ]
  },
  {
   "cell_type": "code",
   "execution_count": 8,
   "id": "8ed6bd02",
   "metadata": {},
   "outputs": [
    {
     "data": {
      "text/plain": [
       "Age            0\n",
       "Religion       0\n",
       "eggsno_q       0\n",
       "fishprawn_q    0\n",
       "goatmeat_q     0\n",
       "beef_q         0\n",
       "pork_q         0\n",
       "chicken_q      0\n",
       "othrbirds_q    0\n",
       "dtype: int64"
      ]
     },
     "execution_count": 8,
     "metadata": {},
     "output_type": "execute_result"
    }
   ],
   "source": [
    "Mizoram.isnull().sum()"
   ]
  },
  {
   "cell_type": "code",
   "execution_count": 9,
   "id": "efc6dea4",
   "metadata": {},
   "outputs": [
    {
     "name": "stdout",
     "output_type": "stream",
     "text": [
      "Index(['Age', 'Religion', 'eggsno_q', 'fishprawn_q', 'goatmeat_q', 'beef_q',\n",
      "       'pork_q', 'chicken_q', 'othrbirds_q'],\n",
      "      dtype='object')\n"
     ]
    }
   ],
   "source": [
    "print(Mizoram.columns)"
   ]
  },
  {
   "cell_type": "code",
   "execution_count": 10,
   "id": "92598f5d",
   "metadata": {},
   "outputs": [
    {
     "data": {
      "text/plain": [
       "Age              int64\n",
       "Religion         int64\n",
       "eggsno_q       float64\n",
       "fishprawn_q    float64\n",
       "goatmeat_q     float64\n",
       "beef_q         float64\n",
       "pork_q         float64\n",
       "chicken_q      float64\n",
       "othrbirds_q    float64\n",
       "dtype: object"
      ]
     },
     "execution_count": 10,
     "metadata": {},
     "output_type": "execute_result"
    }
   ],
   "source": [
    "Mizoram.dtypes"
   ]
  },
  {
   "cell_type": "code",
   "execution_count": 11,
   "id": "dfcdd616",
   "metadata": {},
   "outputs": [],
   "source": [
    "import seaborn as sns\n",
    "import matplotlib.pyplot as plt"
   ]
  },
  {
   "cell_type": "code",
   "execution_count": 12,
   "id": "2eeb30b1",
   "metadata": {},
   "outputs": [],
   "source": [
    "z_scores = (Mizoram - Mizoram.mean()) /Mizoram.std()\n",
    "outliers = (z_scores > 3) | (z_scores < -3)"
   ]
  },
  {
   "cell_type": "code",
   "execution_count": 13,
   "id": "22e1dd60",
   "metadata": {},
   "outputs": [
    {
     "name": "stdout",
     "output_type": "stream",
     "text": [
      "Outliers:\n",
      "         Age  Religion  eggsno_q  fishprawn_q  goatmeat_q  beef_q  pork_q  \\\n",
      "0     False     False     False        False       False   False   False   \n",
      "1     False     False     False        False       False   False   False   \n",
      "2     False     False     False        False       False   False   False   \n",
      "3     False     False     False        False       False   False   False   \n",
      "4     False     False     False        False       False   False   False   \n",
      "...     ...       ...       ...          ...         ...     ...     ...   \n",
      "1531  False      True     False        False       False   False   False   \n",
      "1532  False     False     False        False       False   False   False   \n",
      "1533  False     False     False        False       False   False   False   \n",
      "1534  False      True     False        False       False   False   False   \n",
      "1535  False      True     False        False       False   False   False   \n",
      "\n",
      "      chicken_q  othrbirds_q  \n",
      "0         False        False  \n",
      "1         False        False  \n",
      "2         False        False  \n",
      "3         False        False  \n",
      "4         False        False  \n",
      "...         ...          ...  \n",
      "1531      False        False  \n",
      "1532      False        False  \n",
      "1533      False        False  \n",
      "1534      False        False  \n",
      "1535      False        False  \n",
      "\n",
      "[1536 rows x 9 columns]\n"
     ]
    }
   ],
   "source": [
    "print(\"Outliers:\\n\",outliers)"
   ]
  },
  {
   "cell_type": "code",
   "execution_count": 14,
   "id": "a68fb747",
   "metadata": {},
   "outputs": [],
   "source": [
    "subset = Mizoram"
   ]
  },
  {
   "cell_type": "code",
   "execution_count": 15,
   "id": "fada42fd",
   "metadata": {},
   "outputs": [],
   "source": [
    "z_score = (subset - subset.mean()) / subset.std()"
   ]
  },
  {
   "cell_type": "code",
   "execution_count": 16,
   "id": "28590597",
   "metadata": {},
   "outputs": [],
   "source": [
    "outliers = (z_score > 3) | (z_scores <-3)"
   ]
  },
  {
   "cell_type": "code",
   "execution_count": 17,
   "id": "47438af4",
   "metadata": {},
   "outputs": [],
   "source": [
    "subset_no_outliers = subset[~outliers.any(axis=1)]"
   ]
  },
  {
   "cell_type": "code",
   "execution_count": 18,
   "id": "75188b3c",
   "metadata": {},
   "outputs": [],
   "source": [
    "subset_no_outliers.reset_index(drop=True, inplace=True)"
   ]
  },
  {
   "cell_type": "code",
   "execution_count": 19,
   "id": "2db332d9",
   "metadata": {},
   "outputs": [
    {
     "name": "stdout",
     "output_type": "stream",
     "text": [
      "Mizoram without Outliers:\n",
      "       Age  Religion  eggsno_q  fishprawn_q  goatmeat_q    beef_q    pork_q  \\\n",
      "0      29         3  0.000138     0.000000         0.0  0.000000  0.750000   \n",
      "1      54         3  0.000000     0.000000         0.0  0.000000  1.333333   \n",
      "2      45         3  0.000000     0.000000         0.0  0.142857  0.571429   \n",
      "3      61         3  0.000550     0.000000         0.0  0.250000  0.500000   \n",
      "4      36         3  0.000000     0.000000         0.0  0.000000  1.333333   \n",
      "...   ...       ...       ...          ...         ...       ...       ...   \n",
      "1299   36         3  0.000183     0.000000         0.0  0.000000  0.666667   \n",
      "1300   42         3  0.000110     0.000000         0.0  0.200000  0.400000   \n",
      "1301   47         3  0.000138     0.166667         0.0  0.166667  0.333333   \n",
      "1302   48         3  0.000132     0.000000         0.2  0.000000  0.400000   \n",
      "1303   40         3  0.000069     0.000000         0.0  0.000000  0.500000   \n",
      "\n",
      "      chicken_q  othrbirds_q  \n",
      "0      0.000000         0.25  \n",
      "1      0.000000         0.00  \n",
      "2      0.000000         0.00  \n",
      "3      0.000000         0.00  \n",
      "4      0.000000         0.00  \n",
      "...         ...          ...  \n",
      "1299   0.000000         0.00  \n",
      "1300   0.000000         0.00  \n",
      "1301   0.166667         0.00  \n",
      "1302   0.000000         0.00  \n",
      "1303   0.250000         0.00  \n",
      "\n",
      "[1304 rows x 9 columns]\n"
     ]
    }
   ],
   "source": [
    "\n",
    "print(\"Mizoram without Outliers:\\n\",subset_no_outliers)"
   ]
  },
  {
   "cell_type": "code",
   "execution_count": 23,
   "id": "d66d6fa3",
   "metadata": {},
   "outputs": [
    {
     "name": "stdout",
     "output_type": "stream",
     "text": [
      "[3 1 2 6 4]\n"
     ]
    }
   ],
   "source": [
    "# Find unique values in the 'Religion' column\n",
    "unique_religions = df['Religion'].unique()\n",
    "\n",
    "# Print the unique religions\n",
    "print(unique_religions)"
   ]
  },
  {
   "cell_type": "code",
   "execution_count": 24,
   "id": "16c31759",
   "metadata": {},
   "outputs": [],
   "source": [
    "# christianity 3 , Hinduism 1, Islam 2, Buddhism 6, Sikhism 4"
   ]
  },
  {
   "cell_type": "code",
   "execution_count": 25,
   "id": "c266d19a",
   "metadata": {},
   "outputs": [],
   "source": [
    "religion_mapping={1:'Hinduism',2:'Islam',3:'Christianity',4:'Sikhism',6:'Buddhism'}"
   ]
  },
  {
   "cell_type": "code",
   "execution_count": 26,
   "id": "8b62f4fb",
   "metadata": {},
   "outputs": [
    {
     "name": "stderr",
     "output_type": "stream",
     "text": [
      "C:\\Users\\Chand\\AppData\\Local\\Temp\\ipykernel_19724\\2193113389.py:1: SettingWithCopyWarning: \n",
      "A value is trying to be set on a copy of a slice from a DataFrame.\n",
      "Try using .loc[row_indexer,col_indexer] = value instead\n",
      "\n",
      "See the caveats in the documentation: https://pandas.pydata.org/pandas-docs/stable/user_guide/indexing.html#returning-a-view-versus-a-copy\n",
      "  subset_no_outliers['Religion']=subset_no_outliers['Religion'].replace(religion_mapping)\n"
     ]
    }
   ],
   "source": [
    "subset_no_outliers['Religion']=subset_no_outliers['Religion'].replace(religion_mapping)"
   ]
  },
  {
   "cell_type": "code",
   "execution_count": 36,
   "id": "04da0671",
   "metadata": {},
   "outputs": [
    {
     "name": "stdout",
     "output_type": "stream",
     "text": [
      "Religion\n",
      "Christianity    1273\n",
      "Hinduism          22\n",
      "Islam              8\n",
      "Sikhism            1\n",
      "Name: count, dtype: int64\n"
     ]
    }
   ],
   "source": [
    "\n",
    "print(subset_no_outliers['Religion'].value_counts())"
   ]
  },
  {
   "cell_type": "code",
   "execution_count": 38,
   "id": "76ea6484",
   "metadata": {},
   "outputs": [
    {
     "data": {
      "image/png": "[encoded data removed]",
      "text/plain": [
       "<Figure size 640x480 with 1 Axes>"
      ]
     },
     "metadata": {},
     "output_type": "display_data"
    }
   ],
   "source": [
    "religion_counts = pd.Series([1273, 22, 8, 1], index=['Christianity','Hinduism','Islam','Sikhism'])\n",
    "plt.bar(religion_counts.index, religion_counts.values, color='pink')  # Adjust color as desired\n",
    "plt.xlabel(\"Religion\")\n",
    "plt.ylabel(\"Count\")\n",
    "plt.title(\"Religion Distribution\")\n",
    "plt.xticks(rotation=45)\n",
    "plt.show()"
   ]
  },
  {
   "cell_type": "code",
   "execution_count": 39,
   "id": "2588a3f3",
   "metadata": {},
   "outputs": [
    {
     "name": "stdout",
     "output_type": "stream",
     "text": [
      "Religion\n",
      "Christianity    1273\n",
      "Hinduism          22\n",
      "Islam              8\n",
      "Sikhism            1\n",
      "Name: count, dtype: int64\n"
     ]
    }
   ],
   "source": [
    "print(subset_no_outliers['Religion'].value_counts())"
   ]
  },
  {
   "cell_type": "code",
   "execution_count": 40,
   "id": "d2d0669c",
   "metadata": {},
   "outputs": [],
   "source": [
    "import os\n",
    "import pandas as pd\n",
    "from sklearn.model_selection import train_test_split\n",
    "from sklearn.tree import DecisionTreeClassifier\n",
    "from sklearn.metrics import confusion_matrix, accuracy_score\n",
    "import statsmodels.api as sm\n",
    "import numpy as np\n",
    "import matplotlib.pyplot as plt\n",
    "from scipy.stats import norm\n",
    "from scipy.optimize import minimize"
   ]
  },
  {
   "cell_type": "code",
   "execution_count": 41,
   "id": "97c8f702",
   "metadata": {},
   "outputs": [
    {
     "name": "stderr",
     "output_type": "stream",
     "text": [
      "C:\\Users\\Chand\\AppData\\Local\\Temp\\ipykernel_19724\\280301051.py:1: SettingWithCopyWarning: \n",
      "A value is trying to be set on a copy of a slice from a DataFrame.\n",
      "Try using .loc[row_indexer,col_indexer] = value instead\n",
      "\n",
      "See the caveats in the documentation: https://pandas.pydata.org/pandas-docs/stable/user_guide/indexing.html#returning-a-view-versus-a-copy\n",
      "  subset_no_outliers['target'] = np.where(subset_no_outliers['eggsno_q'] > 0,1,0)\n"
     ]
    }
   ],
   "source": [
    "subset_no_outliers['target'] = np.where(subset_no_outliers['eggsno_q'] > 0,1,0)\n",
    "x = subset_no_outliers.drop(['eggsno_q'], axis = 1)\n",
    "x = sm.add_constant(x)\n",
    "y = subset_no_outliers['target']"
   ]
  },
  {
   "cell_type": "code",
   "execution_count": 44,
   "id": "f8dd8233",
   "metadata": {},
   "outputs": [],
   "source": [
    "columns = ['eggsno_q','fishprawn_q','goatmeat_q','beef_q','pork_q','chicken_q','othrbirds_q']"
   ]
  },
  {
   "cell_type": "code",
   "execution_count": 46,
   "id": "c30f09c5",
   "metadata": {},
   "outputs": [],
   "source": [
    "data = subset_no_outliers[columns].copy()"
   ]
  },
  {
   "cell_type": "code",
   "execution_count": 47,
   "id": "ec64995a",
   "metadata": {},
   "outputs": [
    {
     "data": {
      "text/plain": [
       "eggsno_q       float64\n",
       "fishprawn_q    float64\n",
       "goatmeat_q     float64\n",
       "beef_q         float64\n",
       "pork_q         float64\n",
       "chicken_q      float64\n",
       "othrbirds_q    float64\n",
       "dtype: object"
      ]
     },
     "execution_count": 47,
     "metadata": {},
     "output_type": "execute_result"
    }
   ],
   "source": [
    "data.dtypes"
   ]
  },
  {
   "cell_type": "code",
   "execution_count": 48,
   "id": "70435950",
   "metadata": {},
   "outputs": [],
   "source": [
    "\n",
    "data['target'] = np.where(data['eggsno_q'] > 0,1,0)\n",
    "x = data.drop(['eggsno_q'], axis = 1)\n",
    "x = sm.add_constant(x)\n",
    "y = data['target']"
   ]
  },
  {
   "cell_type": "code",
   "execution_count": 49,
   "id": "76bc829b",
   "metadata": {},
   "outputs": [
    {
     "name": "stdout",
     "output_type": "stream",
     "text": [
      "Warning: Maximum number of iterations has been exceeded.\n",
      "         Current function value: 0.000000\n",
      "         Iterations: 35\n",
      "                          Probit Regression Results                           \n",
      "==============================================================================\n",
      "Dep. Variable:                 target   No. Observations:                 1304\n",
      "Model:                         Probit   Df Residuals:                     1296\n",
      "Method:                           MLE   Df Model:                            7\n",
      "Date:                Mon, 01 Jul 2024   Pseudo R-squ.:                   1.000\n",
      "Time:                        14:16:10   Log-Likelihood:            -6.8055e-05\n",
      "converged:                      False   LL-Null:                       -661.03\n",
      "Covariance Type:            nonrobust   LLR p-value:                2.817e-281\n",
      "===============================================================================\n",
      "                  coef    std err          z      P>|z|      [0.025      0.975]\n",
      "-------------------------------------------------------------------------------\n",
      "const          -4.8934     62.077     -0.079      0.937    -126.563     116.776\n",
      "fishprawn_q     0.4854    231.534      0.002      0.998    -453.314     454.285\n",
      "goatmeat_q     -0.6296   6331.076  -9.94e-05      1.000   -1.24e+04    1.24e+04\n",
      "beef_q          0.7463    112.149      0.007      0.995    -219.062     220.555\n",
      "pork_q         -1.7143    269.636     -0.006      0.995    -530.191     526.762\n",
      "chicken_q      -0.7828    232.260     -0.003      0.997    -456.005     454.439\n",
      "othrbirds_q     0.5550    144.768      0.004      0.997    -283.185     284.295\n",
      "target         13.0878    445.393      0.029      0.977    -859.867     886.043\n",
      "===============================================================================\n",
      "\n",
      "Complete Separation: The results show that there iscomplete separation or perfect prediction.\n",
      "In this case the Maximum Likelihood Estimator does not exist and the parameters\n",
      "are not identified.\n"
     ]
    },
    {
     "name": "stderr",
     "output_type": "stream",
     "text": [
      "C:\\Users\\Chand\\anaconda3\\Lib\\site-packages\\statsmodels\\discrete\\discrete_model.py:227: PerfectSeparationWarning: Perfect separation or prediction detected, parameter may not be identified\n",
      "  warnings.warn(msg, category=PerfectSeparationWarning)\n",
      "C:\\Users\\Chand\\anaconda3\\Lib\\site-packages\\statsmodels\\discrete\\discrete_model.py:227: PerfectSeparationWarning: Perfect separation or prediction detected, parameter may not be identified\n",
      "  warnings.warn(msg, category=PerfectSeparationWarning)\n",
      "C:\\Users\\Chand\\anaconda3\\Lib\\site-packages\\statsmodels\\discrete\\discrete_model.py:227: PerfectSeparationWarning: Perfect separation or prediction detected, parameter may not be identified\n",
      "  warnings.warn(msg, category=PerfectSeparationWarning)\n",
      "C:\\Users\\Chand\\anaconda3\\Lib\\site-packages\\statsmodels\\discrete\\discrete_model.py:227: PerfectSeparationWarning: Perfect separation or prediction detected, parameter may not be identified\n",
      "  warnings.warn(msg, category=PerfectSeparationWarning)\n",
      "C:\\Users\\Chand\\anaconda3\\Lib\\site-packages\\statsmodels\\discrete\\discrete_model.py:227: PerfectSeparationWarning: Perfect separation or prediction detected, parameter may not be identified\n",
      "  warnings.warn(msg, category=PerfectSeparationWarning)\n",
      "C:\\Users\\Chand\\anaconda3\\Lib\\site-packages\\statsmodels\\discrete\\discrete_model.py:227: PerfectSeparationWarning: Perfect separation or prediction detected, parameter may not be identified\n",
      "  warnings.warn(msg, category=PerfectSeparationWarning)\n",
      "C:\\Users\\Chand\\anaconda3\\Lib\\site-packages\\statsmodels\\discrete\\discrete_model.py:227: PerfectSeparationWarning: Perfect separation or prediction detected, parameter may not be identified\n",
      "  warnings.warn(msg, category=PerfectSeparationWarning)\n",
      "C:\\Users\\Chand\\anaconda3\\Lib\\site-packages\\statsmodels\\discrete\\discrete_model.py:227: PerfectSeparationWarning: Perfect separation or prediction detected, parameter may not be identified\n",
      "  warnings.warn(msg, category=PerfectSeparationWarning)\n",
      "C:\\Users\\Chand\\anaconda3\\Lib\\site-packages\\statsmodels\\base\\model.py:607: ConvergenceWarning: Maximum Likelihood optimization failed to converge. Check mle_retvals\n",
      "  warnings.warn(\"Maximum Likelihood optimization failed to \"\n"
     ]
    }
   ],
   "source": [
    "\n"
   ]
  },
  {
   "cell_type": "code",
   "execution_count": null,
   "id": "9d7d43c5",
   "metadata": {},
   "outputs": [],
   "source": []
  }
 ],
 "metadata": {
  "kernelspec": {
   "display_name": "Python 3 (ipykernel)",
   "language": "python",
   "name": "python3"
  },
  "language_info": {
   "codemirror_mode": {
    "name": "ipython",
    "version": 3
   },
   "file_extension": ".py",
   "mimetype": "text/x-python",
   "name": "python",
   "nbconvert_exporter": "python",
   "pygments_lexer": "ipython3",
   "version": "3.11.5"
  }
 },
 "nbformat": 4,
 "nbformat_minor": 5
}
